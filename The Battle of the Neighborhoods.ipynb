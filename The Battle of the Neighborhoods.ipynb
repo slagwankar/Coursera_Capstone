{
    "nbformat_minor": 1, 
    "cells": [
        {
            "source": "# Capstone Project - The Battle of Neighborhoods\n\n", 
            "cell_type": "markdown", 
            "metadata": {
                "collapsed": true
            }
        }, 
        {
            "source": "## A description of the problem and a discussion of the background. \n\nThere are approximately 4.6 million vending machines in the United States, producing over $64 billion in profits in one year alone. Not only has the Vending Machine marketplace been steadily growing, but it\u2019s relatively easy to start your own. Some advantages to starting a vending machine business, aside from profitability,  are low setup costs, flexibility in location, and less risk with cash only vending machines (no accounts receivable). \n\nOnce you decide to invest in a vending machine business opportunity, the most critical factor in whether your business will be lucrative is the location of your vending machines. \n\nAccording to the Vending Group, the most popular places to install vending machines include apartment complexes, hotels, retail stores, and auto shops. \nWhy? These locations are ideal because there isn\u2019t easy accessibility to other alternatives for snacks and drinks. Installing vending machines in areas that already attract large numbers of people is a strategic way to increase revenue. Another place to install vending machines in places of high foot traffic and locations that lack businesses that sell snacks and drinks within walking distance.\n\nUsing Data Science, we can pinpoint locations that would be ideal for installing a vending machine. Let\u2019s say that you live in New York and want to install five vending machines in New York, New York, and five vending machines in Albany, New York.\n\nDescription of the data: \n- Population (permanent residents)\n- Most popular types of businesses by rank\n- Locations with no store that sells snacks and drinks in a 0.25-mile radius. \n    - Note: 0.25 miles is considered the acceptable walking distance in the US.\n- Locations of apartment complexes, hotels, retail stores, and auto shops \n\n\nSources:\nhttps://www.thebalancesmb.com/starting-a-vending-machine-business-4138408\nhttps://blog.vendinggroup.com/6-best-places-to-install-vending-machines\nhttps://www.ncbi.nlm.nih.gov/pmc/articles/PMC3377942/", 
            "cell_type": "markdown", 
            "metadata": {}
        }, 
        {
            "execution_count": null, 
            "cell_type": "code", 
            "metadata": {}, 
            "outputs": [], 
            "source": ""
        }
    ], 
    "metadata": {
        "kernelspec": {
            "display_name": "Python 3.6", 
            "name": "python3", 
            "language": "python"
        }, 
        "language_info": {
            "mimetype": "text/x-python", 
            "nbconvert_exporter": "python", 
            "version": "3.6.8", 
            "name": "python", 
            "file_extension": ".py", 
            "pygments_lexer": "ipython3", 
            "codemirror_mode": {
                "version": 3, 
                "name": "ipython"
            }
        }
    }, 
    "nbformat": 4
}